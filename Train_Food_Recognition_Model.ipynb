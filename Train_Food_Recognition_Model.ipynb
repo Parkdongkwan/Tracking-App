{
 "cells": [
  {
   "cell_type": "code",
   "execution_count": 1,
   "id": "1ed06bf1-84b9-4123-8531-a6707c3ffbc6",
   "metadata": {},
   "outputs": [],
   "source": [
    "import os\n",
    "import numpy as np\n",
    "import tensorflow as tf\n",
    "from collections import defaultdict\n",
    "import collections\n",
    "import matplotlib.pyplot as plt\n",
    "from tensorflow.keras.preprocessing.image import ImageDataGenerator\n",
    "from tensorflow.keras.models import load_model\n",
    "from tensorflow.keras.preprocessing import image\n",
    "from tensorflow.keras.applications.inception_v3 import InceptionV3, preprocess_input\n",
    "from tensorflow.keras import layers\n",
    "from tensorflow.keras import Model\n",
    "from tensorflow.python.client import device_lib\n",
    "import tensorflow.keras.backend as K\n",
    "from shutil import copy\n",
    "from tensorflow.keras.layers import Dense, Dropout, Activation, Flatten\n",
    "from tensorflow.keras.layers import Convolution2D, MaxPooling2D, ZeroPadding2D, GlobalAveragePooling2D, AveragePooling2D\n",
    "from tensorflow.keras.callbacks import ModelCheckpoint, CSVLogger\n",
    "from tensorflow.keras.optimizers import SGD\n",
    "from tensorflow.keras import regularizers\n",
    "from tensorflow.keras.regularizers import l2"
   ]
  },
  {
   "cell_type": "code",
   "execution_count": 2,
   "id": "bd026c15-ee2e-4df1-9484-3691aaf5906d",
   "metadata": {},
   "outputs": [
    {
     "data": {
      "text/plain": [
       "[PhysicalDevice(name='/physical_device:GPU:0', device_type='GPU')]"
      ]
     },
     "execution_count": 2,
     "metadata": {},
     "output_type": "execute_result"
    }
   ],
   "source": [
    "tf.config.list_physical_devices('GPU') "
   ]
  },
  {
   "cell_type": "code",
   "execution_count": 3,
   "id": "5e7fe3d9-99ef-4bbf-a014-91349a2636a8",
   "metadata": {},
   "outputs": [
    {
     "name": "stdout",
     "output_type": "stream",
     "text": [
      "2.6.0\n",
      "/device:GPU:0\n"
     ]
    }
   ],
   "source": [
    "print(tf.__version__)\n",
    "print(tf.test.gpu_device_name())"
   ]
  },
  {
   "cell_type": "code",
   "execution_count": 4,
   "id": "7629559c-ddc2-4256-96ec-68bb9170d90d",
   "metadata": {},
   "outputs": [],
   "source": [
    "# Set the path to the food-101 directory\n",
    "food_101_path = r'C:\\Users\\parkd\\Desktop\\Final Year Project'"
   ]
  },
  {
   "cell_type": "code",
   "execution_count": 5,
   "id": "a5c18d10-cf80-45d5-8c7a-306fb11c2f42",
   "metadata": {},
   "outputs": [],
   "source": [
    "# Change the current working directory to food-101\n",
    "os.chdir(food_101_path)"
   ]
  },
  {
   "cell_type": "code",
   "execution_count": 6,
   "id": "1d187a57-926c-4cfa-b7e6-974e29d4d31a",
   "metadata": {},
   "outputs": [
    {
     "data": {
      "text/plain": [
       "'C:\\\\Users\\\\parkd\\\\Desktop\\\\Final Year Project'"
      ]
     },
     "execution_count": 6,
     "metadata": {},
     "output_type": "execute_result"
    }
   ],
   "source": [
    "os.getcwd()"
   ]
  },
  {
   "cell_type": "code",
   "execution_count": 7,
   "id": "cfb6e0cc-2aef-4fbf-a084-99cb88bd7f8f",
   "metadata": {},
   "outputs": [
    {
     "data": {
      "text/plain": [
       "['apple_pie',\n",
       " 'baby_back_ribs',\n",
       " 'baklava',\n",
       " 'beef_carpaccio',\n",
       " 'beef_tartare',\n",
       " 'beet_salad',\n",
       " 'beignets',\n",
       " 'bibimbap',\n",
       " 'bread_pudding',\n",
       " 'breakfast_burrito',\n",
       " 'bruschetta',\n",
       " 'caesar_salad',\n",
       " 'cannoli',\n",
       " 'caprese_salad',\n",
       " 'carrot_cake',\n",
       " 'ceviche',\n",
       " 'cheesecake',\n",
       " 'cheese_plate',\n",
       " 'chicken_curry',\n",
       " 'chicken_quesadilla',\n",
       " 'chicken_wings',\n",
       " 'chocolate_cake',\n",
       " 'chocolate_mousse',\n",
       " 'churros',\n",
       " 'clam_chowder',\n",
       " 'club_sandwich',\n",
       " 'crab_cakes',\n",
       " 'creme_brulee',\n",
       " 'croque_madame',\n",
       " 'cup_cakes',\n",
       " 'deviled_eggs',\n",
       " 'donuts',\n",
       " 'dumplings',\n",
       " 'edamame',\n",
       " 'eggs_benedict',\n",
       " 'escargots',\n",
       " 'falafel',\n",
       " 'filet_mignon',\n",
       " 'fish_and_chips',\n",
       " 'foie_gras',\n",
       " 'french_fries',\n",
       " 'french_onion_soup',\n",
       " 'french_toast',\n",
       " 'fried_calamari',\n",
       " 'fried_rice',\n",
       " 'frozen_yogurt',\n",
       " 'garlic_bread',\n",
       " 'gnocchi',\n",
       " 'greek_salad',\n",
       " 'grilled_cheese_sandwich',\n",
       " 'grilled_salmon',\n",
       " 'guacamole',\n",
       " 'gyoza',\n",
       " 'hamburger',\n",
       " 'hot_and_sour_soup',\n",
       " 'hot_dog',\n",
       " 'huevos_rancheros',\n",
       " 'hummus',\n",
       " 'ice_cream',\n",
       " 'lasagna',\n",
       " 'lobster_bisque',\n",
       " 'lobster_roll_sandwich',\n",
       " 'macaroni_and_cheese',\n",
       " 'macarons',\n",
       " 'miso_soup',\n",
       " 'mussels',\n",
       " 'nachos',\n",
       " 'omelette',\n",
       " 'onion_rings',\n",
       " 'oysters',\n",
       " 'pad_thai',\n",
       " 'paella',\n",
       " 'pancakes',\n",
       " 'panna_cotta',\n",
       " 'peking_duck',\n",
       " 'pho',\n",
       " 'pizza',\n",
       " 'pork_chop',\n",
       " 'poutine',\n",
       " 'prime_rib',\n",
       " 'pulled_pork_sandwich',\n",
       " 'ramen',\n",
       " 'ravioli',\n",
       " 'red_velvet_cake',\n",
       " 'risotto',\n",
       " 'samosa',\n",
       " 'sashimi',\n",
       " 'scallops',\n",
       " 'seaweed_salad',\n",
       " 'shrimp_and_grits',\n",
       " 'spaghetti_bolognese',\n",
       " 'spaghetti_carbonara',\n",
       " 'spring_rolls',\n",
       " 'steak',\n",
       " 'strawberry_shortcake',\n",
       " 'sushi',\n",
       " 'tacos',\n",
       " 'takoyaki',\n",
       " 'tiramisu',\n",
       " 'tuna_tartare',\n",
       " 'waffles']"
      ]
     },
     "execution_count": 7,
     "metadata": {},
     "output_type": "execute_result"
    }
   ],
   "source": [
    "os.listdir('food-101/images')"
   ]
  },
  {
   "cell_type": "code",
   "execution_count": 8,
   "id": "c6ca9ba7-a8af-4341-8161-2425d80caae3",
   "metadata": {},
   "outputs": [
    {
     "data": {
      "text/plain": [
       "['classes.txt',\n",
       " 'labels.txt',\n",
       " 'test.json',\n",
       " 'test.txt',\n",
       " 'train.json',\n",
       " 'train.txt']"
      ]
     },
     "execution_count": 8,
     "metadata": {},
     "output_type": "execute_result"
    }
   ],
   "source": [
    "os.listdir('food-101/meta')"
   ]
  },
  {
   "cell_type": "code",
   "execution_count": 9,
   "id": "35917426-7658-4bad-95ee-d0fa563e4e74",
   "metadata": {},
   "outputs": [],
   "source": [
    "# Helper method to split dataset into train and test folders\n",
    "def prepare_data(filepath, src,dest):\n",
    "  classes_images = defaultdict(list)\n",
    "  with open(filepath, 'r') as txt:\n",
    "      paths = [read.strip() for read in txt.readlines()]\n",
    "      for p in paths:\n",
    "        food = p.split('/')\n",
    "        classes_images[food[0]].append(food[1] + '.jpg')\n",
    "\n",
    "  for food in classes_images.keys():\n",
    "    print(\"\\nCopying images into \",food)\n",
    "    if not os.path.exists(os.path.join(dest,food)):\n",
    "      os.makedirs(os.path.join(dest,food))\n",
    "    for i in classes_images[food]:\n",
    "      copy(os.path.join(src,food,i), os.path.join(dest,food,i))\n",
    "  print(\"Copying Done!\")"
   ]
  },
  {
   "cell_type": "code",
   "execution_count": 10,
   "id": "9d1d2bc4-30d2-4774-843f-8d078d435406",
   "metadata": {},
   "outputs": [
    {
     "name": "stdout",
     "output_type": "stream",
     "text": [
      "Found 75750 images belonging to 101 classes.\n",
      "Found 25250 images belonging to 101 classes.\n"
     ]
    }
   ],
   "source": [
    "K.clear_session()\n",
    "n_classes = 101\n",
    "img_width, img_height = 299, 299\n",
    "train_data_dir = 'train'\n",
    "validation_data_dir = 'test'\n",
    "nb_train_samples = 75750\n",
    "nb_validation_samples = 25250\n",
    "batch_size = 32\n",
    "\n",
    "train_datagen = ImageDataGenerator(\n",
    "    rescale=1. / 255,\n",
    "    shear_range=0.2,\n",
    "    zoom_range=0.2,\n",
    "    horizontal_flip=True)\n",
    "\n",
    "test_datagen = ImageDataGenerator(rescale=1. / 255)\n",
    "\n",
    "train_generator = train_datagen.flow_from_directory(\n",
    "    train_data_dir,\n",
    "    target_size=(img_height, img_width),\n",
    "    batch_size=batch_size,\n",
    "    class_mode='categorical')\n",
    "\n",
    "validation_generator = test_datagen.flow_from_directory(\n",
    "    validation_data_dir,\n",
    "    target_size=(img_height, img_width),\n",
    "    batch_size=batch_size,\n",
    "    class_mode='categorical')"
   ]
  },
  {
   "cell_type": "code",
   "execution_count": 11,
   "id": "b22863e2-2014-4fa5-9ac8-d1377cdb7cd5",
   "metadata": {},
   "outputs": [],
   "source": [
    "inception = InceptionV3(weights='imagenet', include_top=False, input_shape=(299, 299, 3))\n",
    "x = inception.output\n",
    "x = GlobalAveragePooling2D()(x)\n",
    "x = Dense(128,activation='relu')(x)\n",
    "x = Dropout(0.2)(x)"
   ]
  },
  {
   "cell_type": "code",
   "execution_count": 12,
   "id": "3e537a55-3218-4217-b3e1-51d6827a518b",
   "metadata": {},
   "outputs": [
    {
     "name": "stderr",
     "output_type": "stream",
     "text": [
      "C:\\Users\\parkd\\anaconda3\\envs\\my_envs\\lib\\site-packages\\keras\\engine\\training.py:1972: UserWarning: `Model.fit_generator` is deprecated and will be removed in a future version. Please use `Model.fit`, which supports generators.\n",
      "  warnings.warn('`Model.fit_generator` is deprecated and '\n"
     ]
    },
    {
     "name": "stdout",
     "output_type": "stream",
     "text": [
      "Epoch 1/30\n",
      "2367/2367 [==============================] - 1885s 789ms/step - loss: 5.0441 - accuracy: 0.0499 - val_loss: 4.6763 - val_accuracy: 0.1619\n",
      "\n",
      "Epoch 00001: val_loss improved from inf to 4.67634, saving model to best_model_3class.hdf5\n",
      "Epoch 2/30\n",
      "2367/2367 [==============================] - 1906s 805ms/step - loss: 4.3357 - accuracy: 0.1990 - val_loss: 3.5606 - val_accuracy: 0.3801\n",
      "\n",
      "Epoch 00002: val_loss improved from 4.67634 to 3.56063, saving model to best_model_3class.hdf5\n",
      "Epoch 3/30\n",
      "2367/2367 [==============================] - 1927s 814ms/step - loss: 3.5299 - accuracy: 0.3401 - val_loss: 2.7428 - val_accuracy: 0.5173\n",
      "\n",
      "Epoch 00003: val_loss improved from 3.56063 to 2.74278, saving model to best_model_3class.hdf5\n",
      "Epoch 4/30\n",
      "2367/2367 [==============================] - 1943s 821ms/step - loss: 2.9762 - accuracy: 0.4343 - val_loss: 2.2663 - val_accuracy: 0.5970\n",
      "\n",
      "Epoch 00004: val_loss improved from 2.74278 to 2.26625, saving model to best_model_3class.hdf5\n",
      "Epoch 5/30\n",
      "2367/2367 [==============================] - 1944s 821ms/step - loss: 2.6248 - accuracy: 0.4975 - val_loss: 1.9764 - val_accuracy: 0.6506\n",
      "\n",
      "Epoch 00005: val_loss improved from 2.26625 to 1.97639, saving model to best_model_3class.hdf5\n",
      "Epoch 6/30\n",
      "2367/2367 [==============================] - 1963s 829ms/step - loss: 2.3726 - accuracy: 0.5489 - val_loss: 1.7917 - val_accuracy: 0.6829\n",
      "\n",
      "Epoch 00006: val_loss improved from 1.97639 to 1.79165, saving model to best_model_3class.hdf5\n",
      "Epoch 7/30\n",
      "2367/2367 [==============================] - 1955s 826ms/step - loss: 2.1869 - accuracy: 0.5872 - val_loss: 1.6491 - val_accuracy: 0.7082\n",
      "\n",
      "Epoch 00007: val_loss improved from 1.79165 to 1.64906, saving model to best_model_3class.hdf5\n",
      "Epoch 8/30\n",
      "2367/2367 [==============================] - 1961s 828ms/step - loss: 2.0477 - accuracy: 0.6117 - val_loss: 1.5421 - val_accuracy: 0.7291\n",
      "\n",
      "Epoch 00008: val_loss improved from 1.64906 to 1.54206, saving model to best_model_3class.hdf5\n",
      "Epoch 9/30\n",
      "2367/2367 [==============================] - 1966s 831ms/step - loss: 1.9197 - accuracy: 0.6395 - val_loss: 1.4620 - val_accuracy: 0.7446\n",
      "\n",
      "Epoch 00009: val_loss improved from 1.54206 to 1.46201, saving model to best_model_3class.hdf5\n",
      "Epoch 10/30\n",
      "2367/2367 [==============================] - 1912s 808ms/step - loss: 1.8193 - accuracy: 0.6606 - val_loss: 1.4018 - val_accuracy: 0.7527\n",
      "\n",
      "Epoch 00010: val_loss improved from 1.46201 to 1.40184, saving model to best_model_3class.hdf5\n",
      "Epoch 11/30\n",
      "2367/2367 [==============================] - 2001s 845ms/step - loss: 1.7306 - accuracy: 0.6763 - val_loss: 1.3298 - val_accuracy: 0.7677\n",
      "\n",
      "Epoch 00011: val_loss improved from 1.40184 to 1.32984, saving model to best_model_3class.hdf5\n",
      "Epoch 12/30\n",
      "2367/2367 [==============================] - 2055s 868ms/step - loss: 1.6561 - accuracy: 0.6930 - val_loss: 1.2780 - val_accuracy: 0.7774\n",
      "\n",
      "Epoch 00012: val_loss improved from 1.32984 to 1.27797, saving model to best_model_3class.hdf5\n",
      "Epoch 13/30\n",
      "2367/2367 [==============================] - 2077s 878ms/step - loss: 1.5860 - accuracy: 0.7069 - val_loss: 1.2412 - val_accuracy: 0.7820\n",
      "\n",
      "Epoch 00013: val_loss improved from 1.27797 to 1.24115, saving model to best_model_3class.hdf5\n",
      "Epoch 14/30\n",
      "2367/2367 [==============================] - 2088s 882ms/step - loss: 1.5225 - accuracy: 0.7172 - val_loss: 1.2153 - val_accuracy: 0.7841\n",
      "\n",
      "Epoch 00014: val_loss improved from 1.24115 to 1.21532, saving model to best_model_3class.hdf5\n",
      "Epoch 15/30\n",
      "2367/2367 [==============================] - 2069s 874ms/step - loss: 1.4636 - accuracy: 0.7291 - val_loss: 1.1700 - val_accuracy: 0.7932\n",
      "\n",
      "Epoch 00015: val_loss improved from 1.21532 to 1.17004, saving model to best_model_3class.hdf5\n",
      "Epoch 16/30\n",
      "2367/2367 [==============================] - 2046s 864ms/step - loss: 1.4054 - accuracy: 0.7432 - val_loss: 1.1428 - val_accuracy: 0.7978\n",
      "\n",
      "Epoch 00016: val_loss improved from 1.17004 to 1.14283, saving model to best_model_3class.hdf5\n",
      "Epoch 17/30\n",
      "2367/2367 [==============================] - 2056s 868ms/step - loss: 1.3582 - accuracy: 0.7519 - val_loss: 1.1169 - val_accuracy: 0.8018\n",
      "\n",
      "Epoch 00017: val_loss improved from 1.14283 to 1.11693, saving model to best_model_3class.hdf5\n",
      "Epoch 18/30\n",
      "2367/2367 [==============================] - 2041s 862ms/step - loss: 1.3131 - accuracy: 0.7595 - val_loss: 1.0951 - val_accuracy: 0.8045\n",
      "\n",
      "Epoch 00018: val_loss improved from 1.11693 to 1.09509, saving model to best_model_3class.hdf5\n",
      "Epoch 19/30\n",
      "2367/2367 [==============================] - 2024s 855ms/step - loss: 1.2676 - accuracy: 0.7673 - val_loss: 1.0658 - val_accuracy: 0.8092\n",
      "\n",
      "Epoch 00019: val_loss improved from 1.09509 to 1.06582, saving model to best_model_3class.hdf5\n",
      "Epoch 20/30\n",
      "2367/2367 [==============================] - 2037s 861ms/step - loss: 1.2237 - accuracy: 0.7773 - val_loss: 1.0541 - val_accuracy: 0.8080\n",
      "\n",
      "Epoch 00020: val_loss improved from 1.06582 to 1.05409, saving model to best_model_3class.hdf5\n",
      "Epoch 21/30\n",
      "2367/2367 [==============================] - 2040s 862ms/step - loss: 1.1866 - accuracy: 0.7841 - val_loss: 1.0287 - val_accuracy: 0.8138\n",
      "\n",
      "Epoch 00021: val_loss improved from 1.05409 to 1.02868, saving model to best_model_3class.hdf5\n",
      "Epoch 22/30\n",
      "2367/2367 [==============================] - 2053s 867ms/step - loss: 1.1487 - accuracy: 0.7915 - val_loss: 1.0109 - val_accuracy: 0.8136\n",
      "\n",
      "Epoch 00022: val_loss improved from 1.02868 to 1.01092, saving model to best_model_3class.hdf5\n",
      "Epoch 23/30\n",
      "2367/2367 [==============================] - 2054s 868ms/step - loss: 1.1168 - accuracy: 0.7978 - val_loss: 0.9974 - val_accuracy: 0.8184\n",
      "\n",
      "Epoch 00023: val_loss improved from 1.01092 to 0.99745, saving model to best_model_3class.hdf5\n",
      "Epoch 24/30\n",
      "2367/2367 [==============================] - 2088s 882ms/step - loss: 1.0787 - accuracy: 0.8047 - val_loss: 0.9827 - val_accuracy: 0.8188\n",
      "\n",
      "Epoch 00024: val_loss improved from 0.99745 to 0.98267, saving model to best_model_3class.hdf5\n",
      "Epoch 25/30\n",
      "2367/2367 [==============================] - 2812s 1s/step - loss: 1.0464 - accuracy: 0.8112 - val_loss: 0.9695 - val_accuracy: 0.8206\n",
      "\n",
      "Epoch 00025: val_loss improved from 0.98267 to 0.96945, saving model to best_model_3class.hdf5\n",
      "Epoch 26/30\n",
      "2367/2367 [==============================] - 2822s 1s/step - loss: 1.0167 - accuracy: 0.8165 - val_loss: 0.9582 - val_accuracy: 0.8218\n",
      "\n",
      "Epoch 00026: val_loss improved from 0.96945 to 0.95820, saving model to best_model_3class.hdf5\n",
      "Epoch 27/30\n",
      "2367/2367 [==============================] - 2561s 1s/step - loss: 0.9879 - accuracy: 0.8236 - val_loss: 0.9501 - val_accuracy: 0.8215\n",
      "\n",
      "Epoch 00027: val_loss improved from 0.95820 to 0.95008, saving model to best_model_3class.hdf5\n",
      "Epoch 28/30\n",
      "2367/2367 [==============================] - 1972s 833ms/step - loss: 0.9619 - accuracy: 0.8294 - val_loss: 0.9326 - val_accuracy: 0.8248\n",
      "\n",
      "Epoch 00028: val_loss improved from 0.95008 to 0.93261, saving model to best_model_3class.hdf5\n",
      "Epoch 29/30\n",
      "2367/2367 [==============================] - 1964s 830ms/step - loss: 0.9344 - accuracy: 0.8343 - val_loss: 0.9323 - val_accuracy: 0.8238\n",
      "\n",
      "Epoch 00029: val_loss improved from 0.93261 to 0.93229, saving model to best_model_3class.hdf5\n",
      "Epoch 30/30\n",
      "2367/2367 [==============================] - 1904s 804ms/step - loss: 0.9044 - accuracy: 0.8404 - val_loss: 0.9252 - val_accuracy: 0.8234\n",
      "\n",
      "Epoch 00030: val_loss improved from 0.93229 to 0.92523, saving model to best_model_3class.hdf5\n"
     ]
    }
   ],
   "source": [
    "predictions = Dense(101,kernel_regularizer=regularizers.l2(0.005), activation='softmax')(x)\n",
    "\n",
    "model = Model(inputs=inception.input, outputs=predictions)\n",
    "model.compile(optimizer=SGD(learning_rate=0.0001, momentum=0.9), loss='categorical_crossentropy', metrics=['accuracy'])\n",
    "checkpointer = ModelCheckpoint(filepath='best_model_3class.hdf5', verbose=1, save_best_only=True)\n",
    "csv_logger = CSVLogger('history_3class.log')\n",
    "\n",
    "history = model.fit_generator(train_generator,\n",
    "                    steps_per_epoch = nb_train_samples // batch_size,\n",
    "                    validation_data=validation_generator,\n",
    "                    validation_steps=nb_validation_samples // batch_size,\n",
    "                    epochs=30,\n",
    "                    verbose=1,\n",
    "                    callbacks=[csv_logger, checkpointer])\n",
    "\n",
    "model.save('model.hdf5')"
   ]
  },
  {
   "cell_type": "code",
   "execution_count": null,
   "id": "ea3cc951-9202-4f0f-a579-cc30418f8ad7",
   "metadata": {},
   "outputs": [],
   "source": []
  }
 ],
 "metadata": {
  "kernelspec": {
   "display_name": "my_envs",
   "language": "python",
   "name": "my_envs"
  },
  "language_info": {
   "codemirror_mode": {
    "name": "ipython",
    "version": 3
   },
   "file_extension": ".py",
   "mimetype": "text/x-python",
   "name": "python",
   "nbconvert_exporter": "python",
   "pygments_lexer": "ipython3",
   "version": "3.9.6"
  }
 },
 "nbformat": 4,
 "nbformat_minor": 5
}
