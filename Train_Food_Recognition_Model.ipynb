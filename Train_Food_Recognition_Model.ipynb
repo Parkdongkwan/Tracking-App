{
 "cells": [
  {
   "cell_type": "code",
   "execution_count": 87,
   "id": "1ed06bf1-84b9-4123-8531-a6707c3ffbc6",
   "metadata": {},
   "outputs": [],
   "source": [
    "import os\n",
    "import numpy as np\n",
    "import tensorflow as tf\n",
    "from collections import defaultdict\n",
    "import collections\n",
    "import matplotlib.pyplot as plt\n",
    "from tensorflow.keras.preprocessing.image import ImageDataGenerator\n",
    "from tensorflow.keras.models import load_model\n",
    "from tensorflow.keras.preprocessing import image\n",
    "from tensorflow.keras.applications.inception_v3 import InceptionV3, preprocess_input\n",
    "from tensorflow.keras import layers\n",
    "from tensorflow.keras import Model\n",
    "from tensorflow.python.client import device_lib\n",
    "import tensorflow.keras.backend as K\n",
    "from shutil import copy\n",
    "from tensorflow.keras.layers import Dense, Dropout, Activation, Flatten\n",
    "from tensorflow.keras.layers import Convolution2D, MaxPooling2D, ZeroPadding2D, GlobalAveragePooling2D, AveragePooling2D\n",
    "from tensorflow.keras.callbacks import ModelCheckpoint, CSVLogger\n",
    "from tensorflow.keras.optimizers import SGD\n",
    "from tensorflow.keras import regularizers\n",
    "from tensorflow.keras.regularizers import l2\n",
    "import json  # Adding the import statement for JSON"
   ]
  },
  {
   "cell_type": "code",
   "execution_count": 88,
   "id": "bd026c15-ee2e-4df1-9484-3691aaf5906d",
   "metadata": {},
   "outputs": [
    {
     "data": {
      "text/plain": [
       "[PhysicalDevice(name='/physical_device:GPU:0', device_type='GPU')]"
      ]
     },
     "execution_count": 88,
     "metadata": {},
     "output_type": "execute_result"
    }
   ],
   "source": [
    "tf.config.list_physical_devices('GPU') "
   ]
  },
  {
   "cell_type": "code",
   "execution_count": 97,
   "id": "5e7fe3d9-99ef-4bbf-a014-91349a2636a8",
   "metadata": {},
   "outputs": [
    {
     "name": "stdout",
     "output_type": "stream",
     "text": [
      "2.6.0\n",
      "/device:GPU:0\n"
     ]
    }
   ],
   "source": [
    "print(tf.__version__)\n",
    "print(tf.test.gpu_device_name())"
   ]
  },
  {
   "cell_type": "code",
   "execution_count": 100,
   "id": "7629559c-ddc2-4256-96ec-68bb9170d90d",
   "metadata": {},
   "outputs": [],
   "source": [
    "# Set the path to the food-101 directory\n",
    "food_101_path = r'C:\\Users\\parkd\\Desktop\\Final Year Project'"
   ]
  },
  {
   "cell_type": "code",
   "execution_count": 101,
   "id": "a5c18d10-cf80-45d5-8c7a-306fb11c2f42",
   "metadata": {},
   "outputs": [],
   "source": [
    "# Change the current working directory to food-101\n",
    "os.chdir(food_101_path)"
   ]
  },
  {
   "cell_type": "code",
   "execution_count": 102,
   "id": "1d187a57-926c-4cfa-b7e6-974e29d4d31a",
   "metadata": {},
   "outputs": [
    {
     "data": {
      "text/plain": [
       "'C:\\\\Users\\\\parkd\\\\Desktop\\\\Final Year Project'"
      ]
     },
     "execution_count": 102,
     "metadata": {},
     "output_type": "execute_result"
    }
   ],
   "source": [
    "os.getcwd()"
   ]
  },
  {
   "cell_type": "code",
   "execution_count": 103,
   "id": "cfb6e0cc-2aef-4fbf-a084-99cb88bd7f8f",
   "metadata": {},
   "outputs": [
    {
     "data": {
      "text/plain": [
       "['apple_pie',\n",
       " 'baby_back_ribs',\n",
       " 'baklava',\n",
       " 'beef_carpaccio',\n",
       " 'beef_tartare',\n",
       " 'beet_salad',\n",
       " 'beignets',\n",
       " 'bibimbap',\n",
       " 'bread_pudding',\n",
       " 'breakfast_burrito',\n",
       " 'bruschetta',\n",
       " 'caesar_salad',\n",
       " 'cannoli',\n",
       " 'caprese_salad',\n",
       " 'carrot_cake',\n",
       " 'ceviche',\n",
       " 'cheesecake',\n",
       " 'cheese_plate',\n",
       " 'chicken_curry',\n",
       " 'chicken_quesadilla',\n",
       " 'chicken_wings',\n",
       " 'chocolate_cake',\n",
       " 'chocolate_mousse',\n",
       " 'churros',\n",
       " 'clam_chowder',\n",
       " 'club_sandwich',\n",
       " 'crab_cakes',\n",
       " 'creme_brulee',\n",
       " 'croque_madame',\n",
       " 'cup_cakes',\n",
       " 'deviled_eggs',\n",
       " 'donuts',\n",
       " 'dumplings',\n",
       " 'edamame',\n",
       " 'eggs_benedict',\n",
       " 'escargots',\n",
       " 'falafel',\n",
       " 'filet_mignon',\n",
       " 'fish_and_chips',\n",
       " 'foie_gras',\n",
       " 'french_fries',\n",
       " 'french_onion_soup',\n",
       " 'french_toast',\n",
       " 'fried_calamari',\n",
       " 'fried_rice',\n",
       " 'frozen_yogurt',\n",
       " 'garlic_bread',\n",
       " 'gnocchi',\n",
       " 'greek_salad',\n",
       " 'grilled_cheese_sandwich',\n",
       " 'grilled_salmon',\n",
       " 'guacamole',\n",
       " 'gyoza',\n",
       " 'hamburger',\n",
       " 'hot_and_sour_soup',\n",
       " 'hot_dog',\n",
       " 'huevos_rancheros',\n",
       " 'hummus',\n",
       " 'ice_cream',\n",
       " 'lasagna',\n",
       " 'lobster_bisque',\n",
       " 'lobster_roll_sandwich',\n",
       " 'macaroni_and_cheese',\n",
       " 'macarons',\n",
       " 'miso_soup',\n",
       " 'mussels',\n",
       " 'nachos',\n",
       " 'omelette',\n",
       " 'onion_rings',\n",
       " 'oysters',\n",
       " 'pad_thai',\n",
       " 'paella',\n",
       " 'pancakes',\n",
       " 'panna_cotta',\n",
       " 'peking_duck',\n",
       " 'pho',\n",
       " 'pizza',\n",
       " 'pork_chop',\n",
       " 'poutine',\n",
       " 'prime_rib',\n",
       " 'pulled_pork_sandwich',\n",
       " 'ramen',\n",
       " 'ravioli',\n",
       " 'red_velvet_cake',\n",
       " 'risotto',\n",
       " 'samosa',\n",
       " 'sashimi',\n",
       " 'scallops',\n",
       " 'seaweed_salad',\n",
       " 'shrimp_and_grits',\n",
       " 'spaghetti_bolognese',\n",
       " 'spaghetti_carbonara',\n",
       " 'spring_rolls',\n",
       " 'steak',\n",
       " 'strawberry_shortcake',\n",
       " 'sushi',\n",
       " 'tacos',\n",
       " 'takoyaki',\n",
       " 'tiramisu',\n",
       " 'tuna_tartare',\n",
       " 'waffles']"
      ]
     },
     "execution_count": 103,
     "metadata": {},
     "output_type": "execute_result"
    }
   ],
   "source": [
    "os.listdir('food-101/images')"
   ]
  },
  {
   "cell_type": "code",
   "execution_count": 104,
   "id": "c6ca9ba7-a8af-4341-8161-2425d80caae3",
   "metadata": {},
   "outputs": [
    {
     "data": {
      "text/plain": [
       "['classes.txt',\n",
       " 'labels.txt',\n",
       " 'test.json',\n",
       " 'test.txt',\n",
       " 'train.json',\n",
       " 'train.txt']"
      ]
     },
     "execution_count": 104,
     "metadata": {},
     "output_type": "execute_result"
    }
   ],
   "source": [
    "os.listdir('food-101/meta')"
   ]
  },
  {
   "cell_type": "code",
   "execution_count": 105,
   "id": "35917426-7658-4bad-95ee-d0fa563e4e74",
   "metadata": {},
   "outputs": [],
   "source": [
    "# Helper method to split dataset into train and test folders\n",
    "def prepare_data(filepath, src,dest):\n",
    "  classes_images = defaultdict(list)\n",
    "  with open(filepath, 'r') as txt:\n",
    "      paths = [read.strip() for read in txt.readlines()]\n",
    "      for p in paths:\n",
    "        food = p.split('/')\n",
    "        classes_images[food[0]].append(food[1] + '.jpg')\n",
    "\n",
    "  for food in classes_images.keys():\n",
    "    print(\"\\nCopying images into \",food)\n",
    "    if not os.path.exists(os.path.join(dest,food)):\n",
    "      os.makedirs(os.path.join(dest,food))\n",
    "    for i in classes_images[food]:\n",
    "      copy(os.path.join(src,food,i), os.path.join(dest,food,i))\n",
    "  print(\"Copying Done!\")"
   ]
  },
  {
   "cell_type": "code",
   "execution_count": null,
   "id": "23cdbeaf-b43b-491f-95b7-610684c3f7e1",
   "metadata": {},
   "outputs": [],
   "source": []
  },
  {
   "cell_type": "code",
   "execution_count": null,
   "id": "1b996cf2-3698-4151-90ce-e90ef5f12a54",
   "metadata": {},
   "outputs": [],
   "source": []
  },
  {
   "cell_type": "code",
   "execution_count": 106,
   "id": "9d1d2bc4-30d2-4774-843f-8d078d435406",
   "metadata": {},
   "outputs": [
    {
     "name": "stdout",
     "output_type": "stream",
     "text": [
      "Found 75750 images belonging to 101 classes.\n",
      "Found 25250 images belonging to 101 classes.\n"
     ]
    }
   ],
   "source": [
    "K.clear_session()\n",
    "n_classes = 101\n",
    "img_width, img_height = 299, 299\n",
    "train_data_dir = 'train'\n",
    "validation_data_dir = 'test'\n",
    "nb_train_samples = 75750\n",
    "nb_validation_samples = 25250\n",
    "batch_size = 32\n",
    "\n",
    "train_datagen = ImageDataGenerator(\n",
    "    rescale=1. / 255,\n",
    "    shear_range=0.2,\n",
    "    zoom_range=0.2,\n",
    "    horizontal_flip=True)\n",
    "\n",
    "test_datagen = ImageDataGenerator(rescale=1. / 255)\n",
    "\n",
    "train_generator = train_datagen.flow_from_directory(\n",
    "    train_data_dir,\n",
    "    target_size=(img_height, img_width),\n",
    "    batch_size=batch_size,\n",
    "    class_mode='categorical')\n",
    "\n",
    "validation_generator = test_datagen.flow_from_directory(\n",
    "    validation_data_dir,\n",
    "    target_size=(img_height, img_width),\n",
    "    batch_size=batch_size,\n",
    "    class_mode='categorical')"
   ]
  },
  {
   "cell_type": "code",
   "execution_count": 107,
   "id": "b22863e2-2014-4fa5-9ac8-d1377cdb7cd5",
   "metadata": {},
   "outputs": [],
   "source": [
    "inception = InceptionV3(weights='imagenet', include_top=False, input_shape=(299, 299, 3))\n",
    "x = inception.output\n",
    "x = GlobalAveragePooling2D()(x)\n",
    "x = Dense(128,activation='relu')(x)\n",
    "x = Dropout(0.2)(x)"
   ]
  },
  {
   "cell_type": "code",
   "execution_count": 108,
   "id": "3e537a55-3218-4217-b3e1-51d6827a518b",
   "metadata": {},
   "outputs": [
    {
     "name": "stderr",
     "output_type": "stream",
     "text": [
      "C:\\Users\\parkd\\anaconda3\\envs\\my_envs\\lib\\site-packages\\keras\\engine\\training.py:1972: UserWarning: `Model.fit_generator` is deprecated and will be removed in a future version. Please use `Model.fit`, which supports generators.\n",
      "  warnings.warn('`Model.fit_generator` is deprecated and '\n"
     ]
    },
    {
     "name": "stdout",
     "output_type": "stream",
     "text": [
      "Epoch 1/30\n",
      "2367/2367 [==============================] - 2013s 841ms/step - loss: 5.0221 - accuracy: 0.0531 - val_loss: 4.5960 - val_accuracy: 0.1828\n",
      "\n",
      "Epoch 00001: val_loss improved from inf to 4.59598, saving model to best_model_3class.hdf5\n",
      "Epoch 2/30\n",
      "2367/2367 [==============================] - 2262s 955ms/step - loss: 4.2781 - accuracy: 0.2106 - val_loss: 3.5002 - val_accuracy: 0.3862\n",
      "\n",
      "Epoch 00002: val_loss improved from 4.59598 to 3.50022, saving model to best_model_3class.hdf5\n",
      "Epoch 3/30\n",
      "2367/2367 [==============================] - 2093s 884ms/step - loss: 3.4896 - accuracy: 0.3448 - val_loss: 2.7031 - val_accuracy: 0.5202\n",
      "\n",
      "Epoch 00003: val_loss improved from 3.50022 to 2.70313, saving model to best_model_3class.hdf5\n",
      "Epoch 4/30\n",
      "2367/2367 [==============================] - 2152s 909ms/step - loss: 2.9509 - accuracy: 0.4362 - val_loss: 2.2359 - val_accuracy: 0.6001\n",
      "\n",
      "Epoch 00004: val_loss improved from 2.70313 to 2.23594, saving model to best_model_3class.hdf5\n",
      "Epoch 5/30\n",
      "2367/2367 [==============================] - 2273s 960ms/step - loss: 2.5912 - accuracy: 0.5042 - val_loss: 1.9418 - val_accuracy: 0.6539\n",
      "\n",
      "Epoch 00005: val_loss improved from 2.23594 to 1.94177, saving model to best_model_3class.hdf5\n",
      "Epoch 6/30\n",
      "2367/2367 [==============================] - 2161s 913ms/step - loss: 2.3483 - accuracy: 0.5510 - val_loss: 1.7523 - val_accuracy: 0.6892\n",
      "\n",
      "Epoch 00006: val_loss improved from 1.94177 to 1.75229, saving model to best_model_3class.hdf5\n",
      "Epoch 7/30\n",
      "2367/2367 [==============================] - 2182s 922ms/step - loss: 2.1674 - accuracy: 0.5890 - val_loss: 1.6203 - val_accuracy: 0.7146\n",
      "\n",
      "Epoch 00007: val_loss improved from 1.75229 to 1.62029, saving model to best_model_3class.hdf5\n",
      "Epoch 8/30\n",
      "2367/2367 [==============================] - 2206s 932ms/step - loss: 2.0187 - accuracy: 0.6177 - val_loss: 1.5236 - val_accuracy: 0.7306\n",
      "\n",
      "Epoch 00008: val_loss improved from 1.62029 to 1.52363, saving model to best_model_3class.hdf5\n",
      "Epoch 9/30\n",
      "2367/2367 [==============================] - 2187s 924ms/step - loss: 1.9030 - accuracy: 0.6415 - val_loss: 1.4437 - val_accuracy: 0.7454\n",
      "\n",
      "Epoch 00009: val_loss improved from 1.52363 to 1.44367, saving model to best_model_3class.hdf5\n",
      "Epoch 10/30\n",
      "2367/2367 [==============================] - 2188s 924ms/step - loss: 1.8027 - accuracy: 0.6637 - val_loss: 1.3728 - val_accuracy: 0.7568\n",
      "\n",
      "Epoch 00010: val_loss improved from 1.44367 to 1.37285, saving model to best_model_3class.hdf5\n",
      "Epoch 11/30\n",
      "2367/2367 [==============================] - 2179s 921ms/step - loss: 1.7215 - accuracy: 0.6794 - val_loss: 1.3159 - val_accuracy: 0.7683\n",
      "\n",
      "Epoch 00011: val_loss improved from 1.37285 to 1.31593, saving model to best_model_3class.hdf5\n",
      "Epoch 12/30\n",
      "2367/2367 [==============================] - 2179s 920ms/step - loss: 1.6408 - accuracy: 0.6949 - val_loss: 1.2722 - val_accuracy: 0.7753\n",
      "\n",
      "Epoch 00012: val_loss improved from 1.31593 to 1.27216, saving model to best_model_3class.hdf5\n",
      "Epoch 13/30\n",
      "2367/2367 [==============================] - 2166s 915ms/step - loss: 1.5688 - accuracy: 0.7089 - val_loss: 1.2361 - val_accuracy: 0.7797\n",
      "\n",
      "Epoch 00013: val_loss improved from 1.27216 to 1.23607, saving model to best_model_3class.hdf5\n",
      "Epoch 14/30\n",
      "2367/2367 [==============================] - 2183s 922ms/step - loss: 1.5084 - accuracy: 0.7232 - val_loss: 1.1897 - val_accuracy: 0.7881\n",
      "\n",
      "Epoch 00014: val_loss improved from 1.23607 to 1.18968, saving model to best_model_3class.hdf5\n",
      "Epoch 15/30\n",
      "2367/2367 [==============================] - 2184s 922ms/step - loss: 1.4519 - accuracy: 0.7320 - val_loss: 1.1586 - val_accuracy: 0.7925\n",
      "\n",
      "Epoch 00015: val_loss improved from 1.18968 to 1.15865, saving model to best_model_3class.hdf5\n",
      "Epoch 16/30\n",
      "2367/2367 [==============================] - 2187s 924ms/step - loss: 1.3973 - accuracy: 0.7433 - val_loss: 1.1295 - val_accuracy: 0.7990\n",
      "\n",
      "Epoch 00016: val_loss improved from 1.15865 to 1.12947, saving model to best_model_3class.hdf5\n",
      "Epoch 17/30\n",
      "2367/2367 [==============================] - 2195s 927ms/step - loss: 1.3475 - accuracy: 0.7524 - val_loss: 1.1178 - val_accuracy: 0.7990\n",
      "\n",
      "Epoch 00017: val_loss improved from 1.12947 to 1.11775, saving model to best_model_3class.hdf5\n",
      "Epoch 18/30\n",
      "2367/2367 [==============================] - 2192s 926ms/step - loss: 1.3023 - accuracy: 0.7616 - val_loss: 1.0814 - val_accuracy: 0.8060\n",
      "\n",
      "Epoch 00018: val_loss improved from 1.11775 to 1.08141, saving model to best_model_3class.hdf5\n",
      "Epoch 19/30\n",
      "2367/2367 [==============================] - 2173s 918ms/step - loss: 1.2624 - accuracy: 0.7700 - val_loss: 1.0639 - val_accuracy: 0.8075\n",
      "\n",
      "Epoch 00019: val_loss improved from 1.08141 to 1.06392, saving model to best_model_3class.hdf5\n",
      "Epoch 20/30\n",
      "2367/2367 [==============================] - 2167s 915ms/step - loss: 1.2178 - accuracy: 0.7768 - val_loss: 1.0431 - val_accuracy: 0.8096\n",
      "\n",
      "Epoch 00020: val_loss improved from 1.06392 to 1.04315, saving model to best_model_3class.hdf5\n",
      "Epoch 21/30\n",
      "2367/2367 [==============================] - 2176s 919ms/step - loss: 1.1781 - accuracy: 0.7865 - val_loss: 1.0232 - val_accuracy: 0.8131\n",
      "\n",
      "Epoch 00021: val_loss improved from 1.04315 to 1.02321, saving model to best_model_3class.hdf5\n",
      "Epoch 22/30\n",
      "2367/2367 [==============================] - 2170s 916ms/step - loss: 1.1403 - accuracy: 0.7935 - val_loss: 1.0040 - val_accuracy: 0.8151\n",
      "\n",
      "Epoch 00022: val_loss improved from 1.02321 to 1.00401, saving model to best_model_3class.hdf5\n",
      "Epoch 23/30\n",
      "2367/2367 [==============================] - 2167s 915ms/step - loss: 1.1038 - accuracy: 0.8006 - val_loss: 0.9911 - val_accuracy: 0.8174\n",
      "\n",
      "Epoch 00023: val_loss improved from 1.00401 to 0.99108, saving model to best_model_3class.hdf5\n",
      "Epoch 24/30\n",
      "2367/2367 [==============================] - 2196s 928ms/step - loss: 1.0754 - accuracy: 0.8047 - val_loss: 0.9907 - val_accuracy: 0.8151\n",
      "\n",
      "Epoch 00024: val_loss improved from 0.99108 to 0.99068, saving model to best_model_3class.hdf5\n",
      "Epoch 25/30\n",
      "2367/2367 [==============================] - 2156s 911ms/step - loss: 1.0448 - accuracy: 0.8107 - val_loss: 0.9687 - val_accuracy: 0.8193\n",
      "\n",
      "Epoch 00025: val_loss improved from 0.99068 to 0.96871, saving model to best_model_3class.hdf5\n",
      "Epoch 26/30\n",
      "2367/2367 [==============================] - 2156s 911ms/step - loss: 1.0164 - accuracy: 0.8174 - val_loss: 0.9556 - val_accuracy: 0.8216\n",
      "\n",
      "Epoch 00026: val_loss improved from 0.96871 to 0.95559, saving model to best_model_3class.hdf5\n",
      "Epoch 27/30\n",
      "2367/2367 [==============================] - 2141s 904ms/step - loss: 0.9818 - accuracy: 0.8245 - val_loss: 0.9476 - val_accuracy: 0.8212\n",
      "\n",
      "Epoch 00027: val_loss improved from 0.95559 to 0.94764, saving model to best_model_3class.hdf5\n",
      "Epoch 28/30\n",
      "2367/2367 [==============================] - 2155s 910ms/step - loss: 0.9539 - accuracy: 0.8288 - val_loss: 0.9351 - val_accuracy: 0.8232\n",
      "\n",
      "Epoch 00028: val_loss improved from 0.94764 to 0.93510, saving model to best_model_3class.hdf5\n",
      "Epoch 29/30\n",
      "2367/2367 [==============================] - 2171s 917ms/step - loss: 0.9248 - accuracy: 0.8339 - val_loss: 0.9336 - val_accuracy: 0.8224\n",
      "\n",
      "Epoch 00029: val_loss improved from 0.93510 to 0.93359, saving model to best_model_3class.hdf5\n",
      "Epoch 30/30\n",
      "2367/2367 [==============================] - 2164s 914ms/step - loss: 0.8999 - accuracy: 0.8405 - val_loss: 0.9151 - val_accuracy: 0.8270\n",
      "\n",
      "Epoch 00030: val_loss improved from 0.93359 to 0.91511, saving model to best_model_3class.hdf5\n"
     ]
    }
   ],
   "source": [
    "predictions = Dense(101,kernel_regularizer=regularizers.l2(0.005), activation='softmax')(x)\n",
    "\n",
    "model = Model(inputs=inception.input, outputs=predictions)\n",
    "model.compile(optimizer=SGD(learning_rate=0.0001, momentum=0.9), loss='categorical_crossentropy', metrics=['accuracy'])\n",
    "checkpointer = ModelCheckpoint(filepath='best_model_3class.hdf5', verbose=1, save_best_only=True)\n",
    "csv_logger = CSVLogger('history_3class.log')\n",
    "\n",
    "history = model.fit_generator(train_generator,\n",
    "                    steps_per_epoch = nb_train_samples // batch_size,\n",
    "                    validation_data=validation_generator,\n",
    "                    validation_steps=nb_validation_samples // batch_size,\n",
    "                    epochs=30,\n",
    "                    verbose=1,\n",
    "                    callbacks=[csv_logger, checkpointer])\n",
    "\n",
    "model.save('model.hdf5')"
   ]
  },
  {
   "cell_type": "code",
   "execution_count": null,
   "id": "cf6fccb1-ab03-4b69-9fcb-54ef3ba1934b",
   "metadata": {},
   "outputs": [],
   "source": []
  }
 ],
 "metadata": {
  "kernelspec": {
   "display_name": "my_envs",
   "language": "python",
   "name": "my_envs"
  },
  "language_info": {
   "codemirror_mode": {
    "name": "ipython",
    "version": 3
   },
   "file_extension": ".py",
   "mimetype": "text/x-python",
   "name": "python",
   "nbconvert_exporter": "python",
   "pygments_lexer": "ipython3",
   "version": "3.9.6"
  }
 },
 "nbformat": 4,
 "nbformat_minor": 5
}
